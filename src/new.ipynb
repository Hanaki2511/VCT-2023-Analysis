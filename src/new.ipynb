{
 "cells": [
  {
   "cell_type": "markdown",
   "metadata": {},
   "source": [
    "## Import"
   ]
  },
  {
   "cell_type": "code",
   "execution_count": 694,
   "metadata": {
    "ExecuteTime": {
     "end_time": "2023-12-26T00:58:23.303857700Z",
     "start_time": "2023-12-26T00:58:21.956365200Z"
    }
   },
   "outputs": [
    {
     "name": "stdout",
     "output_type": "stream",
     "text": [
      "Requirement already satisfied: statsmodels in c:\\users\\hanaki\\documents\\hanaki\\datascience\\venv\\lib\\site-packages (0.14.1)\n",
      "Requirement already satisfied: numpy<2,>=1.18 in c:\\users\\hanaki\\documents\\hanaki\\datascience\\venv\\lib\\site-packages (from statsmodels) (1.26.0)\n",
      "Requirement already satisfied: scipy!=1.9.2,>=1.4 in c:\\users\\hanaki\\documents\\hanaki\\datascience\\venv\\lib\\site-packages (from statsmodels) (1.11.3)\n",
      "Requirement already satisfied: pandas!=2.1.0,>=1.0 in c:\\users\\hanaki\\documents\\hanaki\\datascience\\venv\\lib\\site-packages (from statsmodels) (2.1.1)\n",
      "Requirement already satisfied: patsy>=0.5.4 in c:\\users\\hanaki\\documents\\hanaki\\datascience\\venv\\lib\\site-packages (from statsmodels) (0.5.5)\n",
      "Requirement already satisfied: packaging>=21.3 in c:\\users\\hanaki\\documents\\hanaki\\datascience\\venv\\lib\\site-packages (from statsmodels) (23.2)\n",
      "Requirement already satisfied: python-dateutil>=2.8.2 in c:\\users\\hanaki\\documents\\hanaki\\datascience\\venv\\lib\\site-packages (from pandas!=2.1.0,>=1.0->statsmodels) (2.8.2)\n",
      "Requirement already satisfied: pytz>=2020.1 in c:\\users\\hanaki\\documents\\hanaki\\datascience\\venv\\lib\\site-packages (from pandas!=2.1.0,>=1.0->statsmodels) (2023.3.post1)\n",
      "Requirement already satisfied: tzdata>=2022.1 in c:\\users\\hanaki\\documents\\hanaki\\datascience\\venv\\lib\\site-packages (from pandas!=2.1.0,>=1.0->statsmodels) (2023.3)\n",
      "Requirement already satisfied: six in c:\\users\\hanaki\\documents\\hanaki\\datascience\\venv\\lib\\site-packages (from patsy>=0.5.4->statsmodels) (1.16.0)\n"
     ]
    },
    {
     "name": "stderr",
     "output_type": "stream",
     "text": [
      "\n",
      "[notice] A new release of pip is available: 23.2.1 -> 23.3.2\n",
      "[notice] To update, run: python.exe -m pip install --upgrade pip\n"
     ]
    }
   ],
   "source": [
    "!pip install statsmodels\n",
    "\n",
    "import os\n",
    "import sys\n",
    "\n",
    "module_path = os.path.abspath(os.path.join('..'))\n",
    "if module_path not in sys.path:\n",
    "    sys.path.append(module_path)\n",
    "\n",
    "import pandas as pd\n",
    "import matplotlib.pyplot as plt\n",
    "import seaborn as sns\n",
    "import numpy as np\n",
    "from scipy import stats\n",
    "import statsmodels.api as sm\n",
    "from statsmodels.formula.api import ols"
   ]
  },
  {
   "cell_type": "markdown",
   "metadata": {},
   "source": [
    "## Exploring data"
   ]
  },
  {
   "cell_type": "markdown",
   "metadata": {},
   "source": [
    "Read raw data from file"
   ]
  },
  {
   "cell_type": "code",
   "execution_count": 695,
   "metadata": {
    "ExecuteTime": {
     "end_time": "2023-12-26T00:58:23.387578200Z",
     "start_time": "2023-12-26T00:58:23.301864700Z"
    }
   },
   "outputs": [
    {
     "data": {
      "text/plain": "   Unnamed: 0  match_id  game_id  team  score_team opponent  score_opp  \\\n0           0     53658   119512  ZETA           5      DRX         13   \n1           1     53658   119512  ZETA           5      DRX         13   \n2           2     53658   119512  ZETA           5      DRX         13   \n3           3     53658   119512  ZETA           5      DRX         13   \n4           4     53658   119512  ZETA           5      DRX         13   \n\n       win_lose     map       map_pick  ...  rating  acs kill death assist  \\\n0  opponent win  Ascent  opponent pick  ...    1.19  239   15    11      6   \n1  opponent win  Ascent  opponent pick  ...    0.84  234   15    14      6   \n2  opponent win  Ascent  opponent pick  ...    0.68  173   10    15      2   \n3  opponent win  Ascent  opponent pick  ...    0.63  142    8    15      4   \n4  opponent win  Ascent  opponent pick  ...    0.57  114    7    16      8   \n\n   kast%  adr  hs% fk fd  \n0    72%  146  16%  1  0  \n1    61%  145  32%  1  4  \n2    67%  123  18%  4  2  \n3    83%   92  29%  3  2  \n4    61%   63  13%  0  1  \n\n[5 rows x 23 columns]",
      "text/html": "<div>\n<style scoped>\n    .dataframe tbody tr th:only-of-type {\n        vertical-align: middle;\n    }\n\n    .dataframe tbody tr th {\n        vertical-align: top;\n    }\n\n    .dataframe thead th {\n        text-align: right;\n    }\n</style>\n<table border=\"1\" class=\"dataframe\">\n  <thead>\n    <tr style=\"text-align: right;\">\n      <th></th>\n      <th>Unnamed: 0</th>\n      <th>match_id</th>\n      <th>game_id</th>\n      <th>team</th>\n      <th>score_team</th>\n      <th>opponent</th>\n      <th>score_opp</th>\n      <th>win_lose</th>\n      <th>map</th>\n      <th>map_pick</th>\n      <th>...</th>\n      <th>rating</th>\n      <th>acs</th>\n      <th>kill</th>\n      <th>death</th>\n      <th>assist</th>\n      <th>kast%</th>\n      <th>adr</th>\n      <th>hs%</th>\n      <th>fk</th>\n      <th>fd</th>\n    </tr>\n  </thead>\n  <tbody>\n    <tr>\n      <th>0</th>\n      <td>0</td>\n      <td>53658</td>\n      <td>119512</td>\n      <td>ZETA</td>\n      <td>5</td>\n      <td>DRX</td>\n      <td>13</td>\n      <td>opponent win</td>\n      <td>Ascent</td>\n      <td>opponent pick</td>\n      <td>...</td>\n      <td>1.19</td>\n      <td>239</td>\n      <td>15</td>\n      <td>11</td>\n      <td>6</td>\n      <td>72%</td>\n      <td>146</td>\n      <td>16%</td>\n      <td>1</td>\n      <td>0</td>\n    </tr>\n    <tr>\n      <th>1</th>\n      <td>1</td>\n      <td>53658</td>\n      <td>119512</td>\n      <td>ZETA</td>\n      <td>5</td>\n      <td>DRX</td>\n      <td>13</td>\n      <td>opponent win</td>\n      <td>Ascent</td>\n      <td>opponent pick</td>\n      <td>...</td>\n      <td>0.84</td>\n      <td>234</td>\n      <td>15</td>\n      <td>14</td>\n      <td>6</td>\n      <td>61%</td>\n      <td>145</td>\n      <td>32%</td>\n      <td>1</td>\n      <td>4</td>\n    </tr>\n    <tr>\n      <th>2</th>\n      <td>2</td>\n      <td>53658</td>\n      <td>119512</td>\n      <td>ZETA</td>\n      <td>5</td>\n      <td>DRX</td>\n      <td>13</td>\n      <td>opponent win</td>\n      <td>Ascent</td>\n      <td>opponent pick</td>\n      <td>...</td>\n      <td>0.68</td>\n      <td>173</td>\n      <td>10</td>\n      <td>15</td>\n      <td>2</td>\n      <td>67%</td>\n      <td>123</td>\n      <td>18%</td>\n      <td>4</td>\n      <td>2</td>\n    </tr>\n    <tr>\n      <th>3</th>\n      <td>3</td>\n      <td>53658</td>\n      <td>119512</td>\n      <td>ZETA</td>\n      <td>5</td>\n      <td>DRX</td>\n      <td>13</td>\n      <td>opponent win</td>\n      <td>Ascent</td>\n      <td>opponent pick</td>\n      <td>...</td>\n      <td>0.63</td>\n      <td>142</td>\n      <td>8</td>\n      <td>15</td>\n      <td>4</td>\n      <td>83%</td>\n      <td>92</td>\n      <td>29%</td>\n      <td>3</td>\n      <td>2</td>\n    </tr>\n    <tr>\n      <th>4</th>\n      <td>4</td>\n      <td>53658</td>\n      <td>119512</td>\n      <td>ZETA</td>\n      <td>5</td>\n      <td>DRX</td>\n      <td>13</td>\n      <td>opponent win</td>\n      <td>Ascent</td>\n      <td>opponent pick</td>\n      <td>...</td>\n      <td>0.57</td>\n      <td>114</td>\n      <td>7</td>\n      <td>16</td>\n      <td>8</td>\n      <td>61%</td>\n      <td>63</td>\n      <td>13%</td>\n      <td>0</td>\n      <td>1</td>\n    </tr>\n  </tbody>\n</table>\n<p>5 rows × 23 columns</p>\n</div>"
     },
     "execution_count": 695,
     "metadata": {},
     "output_type": "execute_result"
    }
   ],
   "source": [
    "file_path = '../data/player_stats.csv'\n",
    "data = pd.read_csv(file_path)\n",
    "data.head()"
   ]
  },
  {
   "cell_type": "markdown",
   "metadata": {},
   "source": [
    "### How many rows and how many columns?"
   ]
  },
  {
   "cell_type": "code",
   "execution_count": 696,
   "metadata": {
    "ExecuteTime": {
     "end_time": "2023-12-26T00:58:23.387578200Z",
     "start_time": "2023-12-26T00:58:23.331764600Z"
    }
   },
   "outputs": [
    {
     "data": {
      "text/plain": "(6230, 23)"
     },
     "execution_count": 696,
     "metadata": {},
     "output_type": "execute_result"
    }
   ],
   "source": [
    "data.shape"
   ]
  },
  {
   "cell_type": "markdown",
   "source": [
    "### What is the meaning of each row?\n",
    "\n",
    "Each row contains basic statistics of each player and team for each game in all VCT 2023"
   ],
   "metadata": {
    "collapsed": false
   }
  },
  {
   "cell_type": "markdown",
   "source": [
    "### Checking duplicates"
   ],
   "metadata": {
    "collapsed": false
   }
  },
  {
   "cell_type": "code",
   "execution_count": 697,
   "outputs": [],
   "source": [
    "num_duplicated_rows = data.duplicated(keep='first').sum()"
   ],
   "metadata": {
    "collapsed": false,
    "ExecuteTime": {
     "end_time": "2023-12-26T00:58:23.387578200Z",
     "start_time": "2023-12-26T00:58:23.347711700Z"
    }
   }
  },
  {
   "cell_type": "code",
   "execution_count": 698,
   "metadata": {
    "ExecuteTime": {
     "end_time": "2023-12-26T00:58:23.391568800Z",
     "start_time": "2023-12-26T00:58:23.363658400Z"
    }
   },
   "outputs": [
    {
     "name": "stdout",
     "output_type": "stream",
     "text": [
      "No duplicated lines.\n"
     ]
    }
   ],
   "source": [
    "if num_duplicated_rows == 0:\n",
    "    print(f\"No duplicated lines.\")\n",
    "else:\n",
    "    ext = \"lines\" if num_duplicated_rows > 1 else \"line\"\n",
    "    print(f\"{num_duplicated_rows} duplicated {ext}. De-deduplicating the raw data.\")"
   ]
  },
  {
   "cell_type": "code",
   "execution_count": 699,
   "outputs": [],
   "source": [
    "# De-deduplicate\n",
    "data = data.drop_duplicates(keep='first')\n",
    "post_deduplication_count = data.duplicated(keep='first').sum()\n",
    "assert post_deduplication_count == 0, \"Still have duplicated rows after de-duplication.\""
   ],
   "metadata": {
    "collapsed": false,
    "ExecuteTime": {
     "end_time": "2023-12-26T00:58:23.439409200Z",
     "start_time": "2023-12-26T00:58:23.379604800Z"
    }
   }
  },
  {
   "cell_type": "markdown",
   "source": [
    "### What is the meaning of each column?"
   ],
   "metadata": {
    "collapsed": false
   }
  },
  {
   "cell_type": "code",
   "execution_count": 700,
   "outputs": [
    {
     "data": {
      "text/plain": "Index(['Unnamed: 0', 'match_id', 'game_id', 'team', 'score_team', 'opponent',\n       'score_opp', 'win_lose', 'map', 'map_pick', 'player_id', 'player',\n       'agent', 'rating', 'acs', 'kill', 'death', 'assist', 'kast%', 'adr',\n       'hs%', 'fk', 'fd'],\n      dtype='object')"
     },
     "execution_count": 700,
     "metadata": {},
     "output_type": "execute_result"
    }
   ],
   "source": [
    "data.columns"
   ],
   "metadata": {
    "collapsed": false,
    "ExecuteTime": {
     "end_time": "2023-12-26T00:58:23.483258400Z",
     "start_time": "2023-12-26T00:58:23.395551400Z"
    }
   }
  },
  {
   "cell_type": "markdown",
   "source": [
    "<table style=\"width: 100%; border-collapse: collapse;\">\n",
    "  <thead>\n",
    "    <tr>\n",
    "      <th style=\"min-width: 10px; width: 30px; background-color: #AC94F4; color: white; font-size :15px; font-weight: bold; text-align: left; padding: 8px;\">STT</th>\n",
    "      <th style=\"background-color: #AC94F4; color: white; font-size :15px; font-weight: bold; text-align: left; padding: 8px;\">Cột</th>\n",
    "      <th style=\"background-color: #AC94F4; color: white; font-size :15px; font-weight: bold; text-align: left; padding: 8px;\">Ý nghĩa</th>\n",
    "    </tr>\n",
    "  </thead>\n",
    "  <tbody>\n",
    "    <tr>\n",
    "      <td style=\"font-size: 14px; text-align: left;\">1</td>\n",
    "      <td style=\"font-size: 14px; text-align: left;\">match_id</td>\n",
    "      <td style=\"font-size: 14px; text-align: left;\">ID of matches played</td>\n",
    "    </tr>\n",
    "    <tr>\n",
    "      <td style=\"font-size: 14px; text-align: left;\">2</td>\n",
    "      <td style=\"font-size: 14px; text-align: left;\">game_id</td>\n",
    "      <td style=\"font-size: 14px; text-align: left;\">Game ID of each map played from each match</td>\n",
    "    </tr>\n",
    "    <tr>\n",
    "      <td style=\"font-size: 14px; text-align: left;\">3</td>\n",
    "      <td style=\"font-size: 14px; text-align: left;\">team</td>\n",
    "      <td style=\"font-size: 14px; text-align: left;\">Team name</td>\n",
    "    </tr>\n",
    "    <tr>\n",
    "      <td style=\"font-size: 14px; text-align: left;\">4</td>\n",
    "      <td style=\"font-size: 14px; text-align: left;\">score_team</td>\n",
    "      <td style=\"font-size: 14px; text-align: left;\">Final score achieved by the team</td>\n",
    "    </tr>\n",
    "    <tr>\n",
    "      <td style=\"font-size: 14px; text-align: left;\">5</td>\n",
    "      <td style=\"font-size: 14px; text-align: left;\">opponent</td>\n",
    "      <td style=\"font-size: 14px; text-align: left;\">Opponent team name</td>\n",
    "    </tr>\n",
    "    <tr>\n",
    "      <td style=\"font-size: 14px; text-align: left;\">6</td>\n",
    "      <td style=\"font-size: 14px; text-align: left;\">score_opp</td>\n",
    "      <td style=\"font-size: 14px; text-align: left;\">Final score achieved by the opponent</td>\n",
    "    </tr>\n",
    "    <tr>\n",
    "      <td style=\"font-size: 14px; text-align: left;\">7</td>\n",
    "      <td style=\"font-size: 14px; text-align: left;\">win_lose</td>\n",
    "      <td style=\"font-size: 14px; text-align: left;\">Result of the game</td>\n",
    "    </tr>\n",
    "    <tr>\n",
    "      <td style=\"font-size: 14px; text-align: left;\">8</td>\n",
    "      <td style=\"font-size: 14px; text-align: left;\">map</td>\n",
    "      <td style=\"font-size: 14px; text-align: left;\">Name of map played</td>\n",
    "    </tr>\n",
    "    <tr>\n",
    "      <td style=\"font-size: 14px; text-align: left;\">9</td>\n",
    "      <td style=\"font-size: 14px; text-align: left;\">map_pick</td>\n",
    "      <td style=\"font-size: 14px; text-align: left;\">Which team picked the map</td>\n",
    "    </tr>\n",
    "    <tr>\n",
    "      <td style=\"font-size: 14px; text-align: left;\">10</td>\n",
    "      <td style=\"font-size: 14px; text-align: left;\">player_id</td>\n",
    "      <td style=\"font-size: 14px; text-align: left;\">ID of player</td>\n",
    "    </tr>\n",
    "    <tr>\n",
    "      <td style=\"font-size: 14px; text-align: left;\">11</td>\n",
    "      <td style=\"font-size: 14px; text-align: left;\">player</td>\n",
    "      <td style=\"font-size: 14px; text-align: left;\">Player name</td>\n",
    "    </tr>\n",
    "    <tr>\n",
    "      <td style=\"font-size: 14px; text-align: left;\">12</td>\n",
    "      <td style=\"font-size: 14px; text-align: left;\">agent</td>\n",
    "      <td style=\"font-size: 14px; text-align: left;\">Agent used in the game</td>\n",
    "    </tr>\n",
    "    <tr>\n",
    "      <td style=\"font-size: 14px; text-align: left;\">13</td>\n",
    "      <td style=\"font-size: 14px; text-align: left;\">rating</td>\n",
    "      <td style=\"font-size: 14px; text-align: left;\">Rating by player for the game</td>\n",
    "    </tr>\n",
    "     <tr>\n",
    "      <td style=\"font-size: 14px; text-align: left;\">14</td>\n",
    "      <td style=\"font-size: 14px; text-align: left;\">acs</td>\n",
    "      <td style=\"font-size: 14px; text-align: left;\">Average Combat Score</td>\n",
    "    </tr>\n",
    "     <tr>\n",
    "      <td style=\"font-size: 14px; text-align: left;\">15</td>\n",
    "      <td style=\"font-size: 14px; text-align: left;\">kill</td>\n",
    "      <td style=\"font-size: 14px; text-align: left;\">Number of Kill Accumulated</td>\n",
    "    </tr>\n",
    "      <tr>\n",
    "      <td style=\"font-size: 14px; text-align: left;\">16</td>\n",
    "      <td style=\"font-size: 14px; text-align: left;\">death</td>\n",
    "      <td style=\"font-size: 14px; text-align: left;\">Number of Death Accumulated</td>\n",
    "    </tr>\n",
    "      <tr>\n",
    "      <td style=\"font-size: 14px; text-align: left;\">17</td>\n",
    "      <td style=\"font-size: 14px; text-align: left;\">assist</td>\n",
    "      <td style=\"font-size: 14px; text-align: left;\">Number of Assist Accumulated</td>\n",
    "    </tr>\n",
    "      <tr>\n",
    "      <td style=\"font-size: 14px; text-align: left;\">18</td>\n",
    "      <td style=\"font-size: 14px; text-align: left;\">kast%</td>\n",
    "      <td style=\"font-size: 14px; text-align: left;\">Percentage of Kill, Assist, Survive, Trade</td>\n",
    "    </tr>\n",
    "      <tr>\n",
    "      <td style=\"font-size: 14px; text-align: left;\">19</td>\n",
    "      <td style=\"font-size: 14px; text-align: left;\">adr</td>\n",
    "      <td style=\"font-size: 14px; text-align: left;\">Average damage dealt during a game</td>\n",
    "    </tr>\n",
    "      <tr>\n",
    "      <td style=\"font-size: 14px; text-align: left;\">20</td>\n",
    "      <td style=\"font-size: 14px; text-align: left;\">hs%</td>\n",
    "      <td style=\"font-size: 14px; text-align: left;\">Headshot percentage</td>\n",
    "    </tr>\n",
    "      <tr>\n",
    "      <td style=\"font-size: 14px; text-align: left;\">21</td>\n",
    "      <td style=\"font-size: 14px; text-align: left;\">fk</td>\n",
    "      <td style=\"font-size: 14px; text-align: left;\">First kill count</td>\n",
    "    </tr>\n",
    "      <tr>\n",
    "      <td style=\"font-size: 14px; text-align: left;\">22</td>\n",
    "      <td style=\"font-size: 14px; text-align: left;\">fd</td>\n",
    "      <td style=\"font-size: 14px; text-align: left;\">First death count</td>\n",
    "    </tr>\n",
    "  </tbody>\n",
    "</table>"
   ],
   "metadata": {
    "collapsed": false
   }
  },
  {
   "cell_type": "markdown",
   "source": [
    "### Is there any column that isn't needed?\n",
    "\n",
    "Removing `Unnamed: 0`, `game_id` and `player_id`\n",
    "- `Unnamed: 0`: index column, not needed\n",
    "- `game_id`: since `game_id` and `match_id` both represents the id of the match, we only need to keep one\n",
    "- `player_id`: same for `game_id`, `player` is enough with the existance of `team`"
   ],
   "metadata": {
    "collapsed": false
   }
  },
  {
   "cell_type": "code",
   "execution_count": 701,
   "metadata": {
    "ExecuteTime": {
     "end_time": "2023-12-26T00:58:23.483258400Z",
     "start_time": "2023-12-26T00:58:23.413492800Z"
    }
   },
   "outputs": [
    {
     "data": {
      "text/plain": "   match_id  team  score_team opponent  score_opp      win_lose     map  \\\n0     53658  ZETA           5      DRX         13  opponent win  Ascent   \n1     53658  ZETA           5      DRX         13  opponent win  Ascent   \n2     53658  ZETA           5      DRX         13  opponent win  Ascent   \n3     53658  ZETA           5      DRX         13  opponent win  Ascent   \n4     53658  ZETA           5      DRX         13  opponent win  Ascent   \n\n        map_pick     player    agent rating  acs  kill  death  assist kast%  \\\n0  opponent pick        Laz     sova   1.19  239    15     11       6   72%   \n1  opponent pick      TENNN  killjoy   0.84  234    15     14       6   61%   \n2  opponent pick        Dep     jett   0.68  173    10     15       2   67%   \n3  opponent pick       crow     kayo   0.63  142     8     15       4   83%   \n4  opponent pick  SugarZ3ro     omen   0.57  114     7     16       8   61%   \n\n   adr  hs% fk fd  \n0  146  16%  1  0  \n1  145  32%  1  4  \n2  123  18%  4  2  \n3   92  29%  3  2  \n4   63  13%  0  1  ",
      "text/html": "<div>\n<style scoped>\n    .dataframe tbody tr th:only-of-type {\n        vertical-align: middle;\n    }\n\n    .dataframe tbody tr th {\n        vertical-align: top;\n    }\n\n    .dataframe thead th {\n        text-align: right;\n    }\n</style>\n<table border=\"1\" class=\"dataframe\">\n  <thead>\n    <tr style=\"text-align: right;\">\n      <th></th>\n      <th>match_id</th>\n      <th>team</th>\n      <th>score_team</th>\n      <th>opponent</th>\n      <th>score_opp</th>\n      <th>win_lose</th>\n      <th>map</th>\n      <th>map_pick</th>\n      <th>player</th>\n      <th>agent</th>\n      <th>rating</th>\n      <th>acs</th>\n      <th>kill</th>\n      <th>death</th>\n      <th>assist</th>\n      <th>kast%</th>\n      <th>adr</th>\n      <th>hs%</th>\n      <th>fk</th>\n      <th>fd</th>\n    </tr>\n  </thead>\n  <tbody>\n    <tr>\n      <th>0</th>\n      <td>53658</td>\n      <td>ZETA</td>\n      <td>5</td>\n      <td>DRX</td>\n      <td>13</td>\n      <td>opponent win</td>\n      <td>Ascent</td>\n      <td>opponent pick</td>\n      <td>Laz</td>\n      <td>sova</td>\n      <td>1.19</td>\n      <td>239</td>\n      <td>15</td>\n      <td>11</td>\n      <td>6</td>\n      <td>72%</td>\n      <td>146</td>\n      <td>16%</td>\n      <td>1</td>\n      <td>0</td>\n    </tr>\n    <tr>\n      <th>1</th>\n      <td>53658</td>\n      <td>ZETA</td>\n      <td>5</td>\n      <td>DRX</td>\n      <td>13</td>\n      <td>opponent win</td>\n      <td>Ascent</td>\n      <td>opponent pick</td>\n      <td>TENNN</td>\n      <td>killjoy</td>\n      <td>0.84</td>\n      <td>234</td>\n      <td>15</td>\n      <td>14</td>\n      <td>6</td>\n      <td>61%</td>\n      <td>145</td>\n      <td>32%</td>\n      <td>1</td>\n      <td>4</td>\n    </tr>\n    <tr>\n      <th>2</th>\n      <td>53658</td>\n      <td>ZETA</td>\n      <td>5</td>\n      <td>DRX</td>\n      <td>13</td>\n      <td>opponent win</td>\n      <td>Ascent</td>\n      <td>opponent pick</td>\n      <td>Dep</td>\n      <td>jett</td>\n      <td>0.68</td>\n      <td>173</td>\n      <td>10</td>\n      <td>15</td>\n      <td>2</td>\n      <td>67%</td>\n      <td>123</td>\n      <td>18%</td>\n      <td>4</td>\n      <td>2</td>\n    </tr>\n    <tr>\n      <th>3</th>\n      <td>53658</td>\n      <td>ZETA</td>\n      <td>5</td>\n      <td>DRX</td>\n      <td>13</td>\n      <td>opponent win</td>\n      <td>Ascent</td>\n      <td>opponent pick</td>\n      <td>crow</td>\n      <td>kayo</td>\n      <td>0.63</td>\n      <td>142</td>\n      <td>8</td>\n      <td>15</td>\n      <td>4</td>\n      <td>83%</td>\n      <td>92</td>\n      <td>29%</td>\n      <td>3</td>\n      <td>2</td>\n    </tr>\n    <tr>\n      <th>4</th>\n      <td>53658</td>\n      <td>ZETA</td>\n      <td>5</td>\n      <td>DRX</td>\n      <td>13</td>\n      <td>opponent win</td>\n      <td>Ascent</td>\n      <td>opponent pick</td>\n      <td>SugarZ3ro</td>\n      <td>omen</td>\n      <td>0.57</td>\n      <td>114</td>\n      <td>7</td>\n      <td>16</td>\n      <td>8</td>\n      <td>61%</td>\n      <td>63</td>\n      <td>13%</td>\n      <td>0</td>\n      <td>1</td>\n    </tr>\n  </tbody>\n</table>\n</div>"
     },
     "execution_count": 701,
     "metadata": {},
     "output_type": "execute_result"
    }
   ],
   "source": [
    "data.drop(columns=['Unnamed: 0', 'game_id', 'player_id'], axis=1, inplace=True)\n",
    "data.head()"
   ]
  },
  {
   "cell_type": "markdown",
   "source": [
    "### What is the current data type of each column? Are there columns having inappropriate data types?"
   ],
   "metadata": {
    "collapsed": false
   }
  },
  {
   "cell_type": "code",
   "execution_count": 702,
   "metadata": {
    "ExecuteTime": {
     "end_time": "2023-12-26T00:58:23.505184400Z",
     "start_time": "2023-12-26T00:58:23.427444200Z"
    }
   },
   "outputs": [
    {
     "name": "stdout",
     "output_type": "stream",
     "text": [
      "<class 'pandas.core.frame.DataFrame'>\n",
      "RangeIndex: 6230 entries, 0 to 6229\n",
      "Data columns (total 20 columns):\n",
      " #   Column      Non-Null Count  Dtype \n",
      "---  ------      --------------  ----- \n",
      " 0   match_id    6230 non-null   int64 \n",
      " 1   team        6230 non-null   object\n",
      " 2   score_team  6230 non-null   int64 \n",
      " 3   opponent    6230 non-null   object\n",
      " 4   score_opp   6230 non-null   int64 \n",
      " 5   win_lose    6230 non-null   object\n",
      " 6   map         6230 non-null   object\n",
      " 7   map_pick    6230 non-null   object\n",
      " 8   player      6230 non-null   object\n",
      " 9   agent       6230 non-null   object\n",
      " 10  rating      6230 non-null   object\n",
      " 11  acs         6230 non-null   object\n",
      " 12  kill        6230 non-null   int64 \n",
      " 13  death       6230 non-null   int64 \n",
      " 14  assist      6230 non-null   int64 \n",
      " 15  kast%       6230 non-null   object\n",
      " 16  adr         6230 non-null   object\n",
      " 17  hs%         6230 non-null   object\n",
      " 18  fk          6230 non-null   object\n",
      " 19  fd          6230 non-null   object\n",
      "dtypes: int64(6), object(14)\n",
      "memory usage: 973.6+ KB\n"
     ]
    }
   ],
   "source": [
    "data.info()"
   ]
  },
  {
   "cell_type": "markdown",
   "source": [
    "Need to convert `rating`, `acs`, `kast%`, `adr`, `hs%`, `fk` and `fd` into numerical types.\n",
    "- For `kast%` and `hs%` we need to remove the % sign and turn it into a fraction (ex 70% is 0.7)\n",
    "\n",
    "Converting `win_lose` into bool and renaming into `win`, because there is only win or lose, also making it easier for later.\n",
    "Converting `map_pick` info bool too, same reason."
   ],
   "metadata": {
    "collapsed": false
   }
  },
  {
   "cell_type": "code",
   "execution_count": 703,
   "metadata": {
    "collapsed": false,
    "ExecuteTime": {
     "end_time": "2023-12-26T00:58:23.534088100Z",
     "start_time": "2023-12-26T00:58:23.456348400Z"
    }
   },
   "outputs": [],
   "source": [
    "columns_to_convert = ['rating', 'acs', 'adr', 'fk', 'fd']\n",
    "data[columns_to_convert] = data[columns_to_convert].apply(pd.to_numeric, errors='coerce')\n",
    "data['kast%'] = pd.to_numeric(data['kast%'].str.rstrip('%'), errors='coerce') / 100\n",
    "data['hs%'] = pd.to_numeric(data['hs%'].str.rstrip('%'), errors='coerce') / 100\n",
    "\n",
    "data['win'] = data['win_lose'].map({'team win': True, 'opponent win': False})\n",
    "data.drop(columns=['win_lose'], inplace=True)\n",
    "data['map_pick'] = data['map_pick'].map({'team pick': True, 'opponent pick': False})"
   ]
  },
  {
   "cell_type": "code",
   "execution_count": 704,
   "outputs": [
    {
     "data": {
      "text/plain": "   match_id  team  score_team opponent  score_opp     map  map_pick  \\\n0     53658  ZETA           5      DRX         13  Ascent     False   \n1     53658  ZETA           5      DRX         13  Ascent     False   \n2     53658  ZETA           5      DRX         13  Ascent     False   \n3     53658  ZETA           5      DRX         13  Ascent     False   \n4     53658  ZETA           5      DRX         13  Ascent     False   \n\n      player    agent  rating    acs  kill  death  assist  kast%    adr   hs%  \\\n0        Laz     sova    1.19  239.0    15     11       6   0.72  146.0  0.16   \n1      TENNN  killjoy    0.84  234.0    15     14       6   0.61  145.0  0.32   \n2        Dep     jett    0.68  173.0    10     15       2   0.67  123.0  0.18   \n3       crow     kayo    0.63  142.0     8     15       4   0.83   92.0  0.29   \n4  SugarZ3ro     omen    0.57  114.0     7     16       8   0.61   63.0  0.13   \n\n    fk   fd    win  \n0  1.0  0.0  False  \n1  1.0  4.0  False  \n2  4.0  2.0  False  \n3  3.0  2.0  False  \n4  0.0  1.0  False  ",
      "text/html": "<div>\n<style scoped>\n    .dataframe tbody tr th:only-of-type {\n        vertical-align: middle;\n    }\n\n    .dataframe tbody tr th {\n        vertical-align: top;\n    }\n\n    .dataframe thead th {\n        text-align: right;\n    }\n</style>\n<table border=\"1\" class=\"dataframe\">\n  <thead>\n    <tr style=\"text-align: right;\">\n      <th></th>\n      <th>match_id</th>\n      <th>team</th>\n      <th>score_team</th>\n      <th>opponent</th>\n      <th>score_opp</th>\n      <th>map</th>\n      <th>map_pick</th>\n      <th>player</th>\n      <th>agent</th>\n      <th>rating</th>\n      <th>acs</th>\n      <th>kill</th>\n      <th>death</th>\n      <th>assist</th>\n      <th>kast%</th>\n      <th>adr</th>\n      <th>hs%</th>\n      <th>fk</th>\n      <th>fd</th>\n      <th>win</th>\n    </tr>\n  </thead>\n  <tbody>\n    <tr>\n      <th>0</th>\n      <td>53658</td>\n      <td>ZETA</td>\n      <td>5</td>\n      <td>DRX</td>\n      <td>13</td>\n      <td>Ascent</td>\n      <td>False</td>\n      <td>Laz</td>\n      <td>sova</td>\n      <td>1.19</td>\n      <td>239.0</td>\n      <td>15</td>\n      <td>11</td>\n      <td>6</td>\n      <td>0.72</td>\n      <td>146.0</td>\n      <td>0.16</td>\n      <td>1.0</td>\n      <td>0.0</td>\n      <td>False</td>\n    </tr>\n    <tr>\n      <th>1</th>\n      <td>53658</td>\n      <td>ZETA</td>\n      <td>5</td>\n      <td>DRX</td>\n      <td>13</td>\n      <td>Ascent</td>\n      <td>False</td>\n      <td>TENNN</td>\n      <td>killjoy</td>\n      <td>0.84</td>\n      <td>234.0</td>\n      <td>15</td>\n      <td>14</td>\n      <td>6</td>\n      <td>0.61</td>\n      <td>145.0</td>\n      <td>0.32</td>\n      <td>1.0</td>\n      <td>4.0</td>\n      <td>False</td>\n    </tr>\n    <tr>\n      <th>2</th>\n      <td>53658</td>\n      <td>ZETA</td>\n      <td>5</td>\n      <td>DRX</td>\n      <td>13</td>\n      <td>Ascent</td>\n      <td>False</td>\n      <td>Dep</td>\n      <td>jett</td>\n      <td>0.68</td>\n      <td>173.0</td>\n      <td>10</td>\n      <td>15</td>\n      <td>2</td>\n      <td>0.67</td>\n      <td>123.0</td>\n      <td>0.18</td>\n      <td>4.0</td>\n      <td>2.0</td>\n      <td>False</td>\n    </tr>\n    <tr>\n      <th>3</th>\n      <td>53658</td>\n      <td>ZETA</td>\n      <td>5</td>\n      <td>DRX</td>\n      <td>13</td>\n      <td>Ascent</td>\n      <td>False</td>\n      <td>crow</td>\n      <td>kayo</td>\n      <td>0.63</td>\n      <td>142.0</td>\n      <td>8</td>\n      <td>15</td>\n      <td>4</td>\n      <td>0.83</td>\n      <td>92.0</td>\n      <td>0.29</td>\n      <td>3.0</td>\n      <td>2.0</td>\n      <td>False</td>\n    </tr>\n    <tr>\n      <th>4</th>\n      <td>53658</td>\n      <td>ZETA</td>\n      <td>5</td>\n      <td>DRX</td>\n      <td>13</td>\n      <td>Ascent</td>\n      <td>False</td>\n      <td>SugarZ3ro</td>\n      <td>omen</td>\n      <td>0.57</td>\n      <td>114.0</td>\n      <td>7</td>\n      <td>16</td>\n      <td>8</td>\n      <td>0.61</td>\n      <td>63.0</td>\n      <td>0.13</td>\n      <td>0.0</td>\n      <td>1.0</td>\n      <td>False</td>\n    </tr>\n  </tbody>\n</table>\n</div>"
     },
     "execution_count": 704,
     "metadata": {},
     "output_type": "execute_result"
    }
   ],
   "source": [
    "data.head()"
   ],
   "metadata": {
    "collapsed": false,
    "ExecuteTime": {
     "end_time": "2023-12-26T00:58:23.585918100Z",
     "start_time": "2023-12-26T00:58:23.473291300Z"
    }
   }
  },
  {
   "cell_type": "code",
   "execution_count": 705,
   "outputs": [
    {
     "name": "stdout",
     "output_type": "stream",
     "text": [
      "<class 'pandas.core.frame.DataFrame'>\n",
      "RangeIndex: 6230 entries, 0 to 6229\n",
      "Data columns (total 20 columns):\n",
      " #   Column      Non-Null Count  Dtype  \n",
      "---  ------      --------------  -----  \n",
      " 0   match_id    6230 non-null   int64  \n",
      " 1   team        6230 non-null   object \n",
      " 2   score_team  6230 non-null   int64  \n",
      " 3   opponent    6230 non-null   object \n",
      " 4   score_opp   6230 non-null   int64  \n",
      " 5   map         6230 non-null   object \n",
      " 6   map_pick    6230 non-null   bool   \n",
      " 7   player      6230 non-null   object \n",
      " 8   agent       6230 non-null   object \n",
      " 9   rating      6160 non-null   float64\n",
      " 10  acs         6160 non-null   float64\n",
      " 11  kill        6230 non-null   int64  \n",
      " 12  death       6230 non-null   int64  \n",
      " 13  assist      6230 non-null   int64  \n",
      " 14  kast%       6160 non-null   float64\n",
      " 15  adr         6160 non-null   float64\n",
      " 16  hs%         6160 non-null   float64\n",
      " 17  fk          6160 non-null   float64\n",
      " 18  fd          6160 non-null   float64\n",
      " 19  win         6230 non-null   bool   \n",
      "dtypes: bool(2), float64(7), int64(6), object(5)\n",
      "memory usage: 888.4+ KB\n"
     ]
    }
   ],
   "source": [
    "data.info()"
   ],
   "metadata": {
    "collapsed": false,
    "ExecuteTime": {
     "end_time": "2023-12-26T00:58:23.586915200Z",
     "start_time": "2023-12-26T00:58:23.489239100Z"
    }
   }
  },
  {
   "cell_type": "markdown",
   "metadata": {
    "collapsed": false
   },
   "source": [
    "### Checking distribution"
   ]
  },
  {
   "cell_type": "markdown",
   "metadata": {},
   "source": [
    "#### With each numerical column, how are values distributed?\n",
    "\n",
    "For columns with numeric data types:\n",
    "- Percentage (from 0 to 100) of missing values\n",
    "- The min\n",
    "- The lower quartile (phân vị 25)\n",
    "- The median (phân vị 50)\n",
    "- The upper quartile (phân vị 75)\n",
    "- The max\n",
    "\n",
    "For viewing, using `.round(1)`."
   ]
  },
  {
   "cell_type": "code",
   "execution_count": 706,
   "metadata": {
    "ExecuteTime": {
     "end_time": "2023-12-26T00:58:23.639734300Z",
     "start_time": "2023-12-26T00:58:23.505184400Z"
    }
   },
   "outputs": [],
   "source": [
    "def numeric_column_info(df: pd.DataFrame) -> pd.DataFrame:\n",
    "    numeric_columns = df.select_dtypes(include=['float64', 'int64']).columns\n",
    "\n",
    "    num_col_info = {}\n",
    "    for col in numeric_columns:\n",
    "        num_col_info[col] = [\n",
    "            df[col].isnull().mean() * 100,  # Missing ratio\n",
    "            df[col].min(),                  # Min\n",
    "            df[col].quantile(0.25),         # Lower quartile\n",
    "            df[col].median(),               # Median\n",
    "            df[col].quantile(0.75),         # Upper quartile\n",
    "            df[col].max()                   # Max\n",
    "        ]\n",
    "\n",
    "    num_col_info_df = pd.DataFrame(num_col_info, index=[\"missing_ratio\", \"min\", \"lower_quartile\", \"median\", \"upper_quartile\", \"max\"])\n",
    "\n",
    "    num_col_info_df = num_col_info_df.round(1)\n",
    "\n",
    "    return num_col_info_df"
   ]
  },
  {
   "cell_type": "code",
   "execution_count": 707,
   "metadata": {
    "collapsed": false,
    "ExecuteTime": {
     "end_time": "2023-12-26T00:58:23.643720800Z",
     "start_time": "2023-12-26T00:58:23.521131Z"
    }
   },
   "outputs": [
    {
     "data": {
      "text/plain": "                match_id  score_team  score_opp  rating    acs  kill  death  \\\nmissing_ratio        0.0         0.0        0.0     1.1    1.1   0.0    0.0   \nmin              52768.0         0.0        0.0     0.0   36.0   2.0    2.0   \nlower_quartile   53561.0         8.0        8.0     0.8  158.0  11.0   13.0   \nmedian           53699.0        13.0       13.0     1.0  194.0  14.0   15.0   \nupper_quartile   59969.0        13.0       13.0     1.2  233.0  18.0   17.0   \n\n                assist  kast%    adr  hs%   fk   fd  \nmissing_ratio      0.0    1.1    1.1  1.1  1.1  1.1  \nmin                0.0    0.1   20.0  0.0  0.0  0.0  \nlower_quartile     4.0    0.6  104.0  0.2  1.0  1.0  \nmedian             6.0    0.7  127.0  0.2  2.0  2.0  \nupper_quartile     9.0    0.8  153.0  0.3  3.0  3.0  ",
      "text/html": "<div>\n<style scoped>\n    .dataframe tbody tr th:only-of-type {\n        vertical-align: middle;\n    }\n\n    .dataframe tbody tr th {\n        vertical-align: top;\n    }\n\n    .dataframe thead th {\n        text-align: right;\n    }\n</style>\n<table border=\"1\" class=\"dataframe\">\n  <thead>\n    <tr style=\"text-align: right;\">\n      <th></th>\n      <th>match_id</th>\n      <th>score_team</th>\n      <th>score_opp</th>\n      <th>rating</th>\n      <th>acs</th>\n      <th>kill</th>\n      <th>death</th>\n      <th>assist</th>\n      <th>kast%</th>\n      <th>adr</th>\n      <th>hs%</th>\n      <th>fk</th>\n      <th>fd</th>\n    </tr>\n  </thead>\n  <tbody>\n    <tr>\n      <th>missing_ratio</th>\n      <td>0.0</td>\n      <td>0.0</td>\n      <td>0.0</td>\n      <td>1.1</td>\n      <td>1.1</td>\n      <td>0.0</td>\n      <td>0.0</td>\n      <td>0.0</td>\n      <td>1.1</td>\n      <td>1.1</td>\n      <td>1.1</td>\n      <td>1.1</td>\n      <td>1.1</td>\n    </tr>\n    <tr>\n      <th>min</th>\n      <td>52768.0</td>\n      <td>0.0</td>\n      <td>0.0</td>\n      <td>0.0</td>\n      <td>36.0</td>\n      <td>2.0</td>\n      <td>2.0</td>\n      <td>0.0</td>\n      <td>0.1</td>\n      <td>20.0</td>\n      <td>0.0</td>\n      <td>0.0</td>\n      <td>0.0</td>\n    </tr>\n    <tr>\n      <th>lower_quartile</th>\n      <td>53561.0</td>\n      <td>8.0</td>\n      <td>8.0</td>\n      <td>0.8</td>\n      <td>158.0</td>\n      <td>11.0</td>\n      <td>13.0</td>\n      <td>4.0</td>\n      <td>0.6</td>\n      <td>104.0</td>\n      <td>0.2</td>\n      <td>1.0</td>\n      <td>1.0</td>\n    </tr>\n    <tr>\n      <th>median</th>\n      <td>53699.0</td>\n      <td>13.0</td>\n      <td>13.0</td>\n      <td>1.0</td>\n      <td>194.0</td>\n      <td>14.0</td>\n      <td>15.0</td>\n      <td>6.0</td>\n      <td>0.7</td>\n      <td>127.0</td>\n      <td>0.2</td>\n      <td>2.0</td>\n      <td>2.0</td>\n    </tr>\n    <tr>\n      <th>upper_quartile</th>\n      <td>59969.0</td>\n      <td>13.0</td>\n      <td>13.0</td>\n      <td>1.2</td>\n      <td>233.0</td>\n      <td>18.0</td>\n      <td>17.0</td>\n      <td>9.0</td>\n      <td>0.8</td>\n      <td>153.0</td>\n      <td>0.3</td>\n      <td>3.0</td>\n      <td>3.0</td>\n    </tr>\n  </tbody>\n</table>\n</div>"
     },
     "execution_count": 707,
     "metadata": {},
     "output_type": "execute_result"
    }
   ],
   "source": [
    "num_col_info_df = numeric_column_info(data)\n",
    "num_col_info_df.head()"
   ]
  },
  {
   "cell_type": "markdown",
   "source": [
    "It seems that `rating`, `acs`, `kast%`, `adr`, `hs%`, `fk` and `fd` is missing from some of the matches.\n",
    "I will check if the values are missing from the same matches, and if yes, i will remove those matches since filling will mess up individual and team performance."
   ],
   "metadata": {
    "collapsed": false
   }
  },
  {
   "cell_type": "code",
   "execution_count": 708,
   "metadata": {
    "ExecuteTime": {
     "end_time": "2023-12-26T00:58:23.666647400Z",
     "start_time": "2023-12-26T00:58:23.552028Z"
    }
   },
   "outputs": [
    {
     "data": {
      "text/plain": "6"
     },
     "execution_count": 708,
     "metadata": {},
     "output_type": "execute_result"
    }
   ],
   "source": [
    "missing_data_columns = ['rating', 'acs', 'kast%', 'adr', 'hs%', 'fk', 'fd']\n",
    "missing_data = data[missing_data_columns].isnull()\n",
    "missing_in_all = missing_data.all(axis=1)\n",
    "matches_with_missing_data = data[missing_in_all]['match_id'].unique()\n",
    "count_matches_with_missing_data = len(matches_with_missing_data)\n",
    "\n",
    "if count_matches_with_missing_data > 0:\n",
    "    data = data[~data['match_id'].isin(matches_with_missing_data)]\n",
    "else:\n",
    "    data = data\n",
    "\n",
    "count_matches_with_missing_data"
   ]
  },
  {
   "cell_type": "code",
   "execution_count": 709,
   "metadata": {
    "ExecuteTime": {
     "end_time": "2023-12-26T00:58:23.691561Z",
     "start_time": "2023-12-26T00:58:23.567974700Z"
    }
   },
   "outputs": [
    {
     "data": {
      "text/plain": "                match_id  score_team  score_opp  rating    acs  kill  death  \\\nmissing_ratio        0.0         0.0        0.0     0.0    0.0   0.0    0.0   \nmin              52768.0         0.0        0.0     0.0   36.0   2.0    2.0   \nlower_quartile   53562.0         8.0        8.0     0.8  158.0  11.0   13.0   \nmedian           53700.0        13.0       13.0     1.0  194.0  14.0   15.0   \nupper_quartile   59970.0        13.0       13.0     1.2  233.0  18.0   17.0   \n\n                assist  kast%    adr  hs%   fk   fd  \nmissing_ratio      0.0    0.0    0.0  0.0  0.0  0.0  \nmin                0.0    0.1   20.0  0.0  0.0  0.0  \nlower_quartile     4.0    0.6  104.0  0.2  1.0  1.0  \nmedian             6.0    0.7  127.0  0.2  2.0  2.0  \nupper_quartile     9.0    0.8  153.0  0.3  3.0  3.0  ",
      "text/html": "<div>\n<style scoped>\n    .dataframe tbody tr th:only-of-type {\n        vertical-align: middle;\n    }\n\n    .dataframe tbody tr th {\n        vertical-align: top;\n    }\n\n    .dataframe thead th {\n        text-align: right;\n    }\n</style>\n<table border=\"1\" class=\"dataframe\">\n  <thead>\n    <tr style=\"text-align: right;\">\n      <th></th>\n      <th>match_id</th>\n      <th>score_team</th>\n      <th>score_opp</th>\n      <th>rating</th>\n      <th>acs</th>\n      <th>kill</th>\n      <th>death</th>\n      <th>assist</th>\n      <th>kast%</th>\n      <th>adr</th>\n      <th>hs%</th>\n      <th>fk</th>\n      <th>fd</th>\n    </tr>\n  </thead>\n  <tbody>\n    <tr>\n      <th>missing_ratio</th>\n      <td>0.0</td>\n      <td>0.0</td>\n      <td>0.0</td>\n      <td>0.0</td>\n      <td>0.0</td>\n      <td>0.0</td>\n      <td>0.0</td>\n      <td>0.0</td>\n      <td>0.0</td>\n      <td>0.0</td>\n      <td>0.0</td>\n      <td>0.0</td>\n      <td>0.0</td>\n    </tr>\n    <tr>\n      <th>min</th>\n      <td>52768.0</td>\n      <td>0.0</td>\n      <td>0.0</td>\n      <td>0.0</td>\n      <td>36.0</td>\n      <td>2.0</td>\n      <td>2.0</td>\n      <td>0.0</td>\n      <td>0.1</td>\n      <td>20.0</td>\n      <td>0.0</td>\n      <td>0.0</td>\n      <td>0.0</td>\n    </tr>\n    <tr>\n      <th>lower_quartile</th>\n      <td>53562.0</td>\n      <td>8.0</td>\n      <td>8.0</td>\n      <td>0.8</td>\n      <td>158.0</td>\n      <td>11.0</td>\n      <td>13.0</td>\n      <td>4.0</td>\n      <td>0.6</td>\n      <td>104.0</td>\n      <td>0.2</td>\n      <td>1.0</td>\n      <td>1.0</td>\n    </tr>\n    <tr>\n      <th>median</th>\n      <td>53700.0</td>\n      <td>13.0</td>\n      <td>13.0</td>\n      <td>1.0</td>\n      <td>194.0</td>\n      <td>14.0</td>\n      <td>15.0</td>\n      <td>6.0</td>\n      <td>0.7</td>\n      <td>127.0</td>\n      <td>0.2</td>\n      <td>2.0</td>\n      <td>2.0</td>\n    </tr>\n    <tr>\n      <th>upper_quartile</th>\n      <td>59970.0</td>\n      <td>13.0</td>\n      <td>13.0</td>\n      <td>1.2</td>\n      <td>233.0</td>\n      <td>18.0</td>\n      <td>17.0</td>\n      <td>9.0</td>\n      <td>0.8</td>\n      <td>153.0</td>\n      <td>0.3</td>\n      <td>3.0</td>\n      <td>3.0</td>\n    </tr>\n  </tbody>\n</table>\n</div>"
     },
     "execution_count": 709,
     "metadata": {},
     "output_type": "execute_result"
    }
   ],
   "source": [
    "num_col_info_df = numeric_column_info(data)\n",
    "num_col_info_df.head()"
   ]
  },
  {
   "cell_type": "markdown",
   "source": [
    "A total of 6 matches was removed. Other than that, the data looks fine."
   ],
   "metadata": {
    "collapsed": false
   }
  },
  {
   "cell_type": "markdown",
   "source": [
    "#### With each categorical column, how are values distributed?\n",
    "\n",
    "For columns with non-numeric data types:\n",
    "- Percentage (from 0 to 100) of missing values\n",
    "- Number of values (the values here are different values and we do not consider missing values)\n",
    "- The percentage (from 0 to 100) of each value is sorted by decreasing percentage (we do not consider missing values, the ratio is the ratio compared to the number of non-missing values)"
   ],
   "metadata": {
    "collapsed": false
   }
  },
  {
   "cell_type": "code",
   "execution_count": 710,
   "metadata": {
    "ExecuteTime": {
     "end_time": "2023-12-26T00:58:23.755348100Z",
     "start_time": "2023-12-26T00:58:23.599867900Z"
    }
   },
   "outputs": [
    {
     "data": {
      "text/plain": "                                                            team  \\\nmissing_ratio                                                0.0   \nnum_values                                                    36   \nvalue_ratios   {'EG': 6.075533661740558, 'PRX': 5.00821018062...   \n\n                                                        opponent  \\\nmissing_ratio                                                0.0   \nnum_values                                                    36   \nvalue_ratios   {'EG': 6.075533661740558, 'PRX': 5.00821018062...   \n\n                                                             map  \\\nmissing_ratio                                                0.0   \nnum_values                                                     8   \nvalue_ratios   {'Ascent': 16.420361247947454, 'Lotus': 16.091...   \n\n                                                        map_pick  \\\nmissing_ratio                                                0.0   \nnum_values                                                     2   \nvalue_ratios   {False: 57.88177339901478, True: 42.1182266009...   \n\n                                                          player  \\\nmissing_ratio                                                0.0   \nnum_values                                                   197   \nvalue_ratios   {'Ethan': 1.2151067323481117, 'Boostio': 1.215...   \n\n                                                           agent  \\\nmissing_ratio                                                0.0   \nnum_values                                                    21   \nvalue_ratios   {'killjoy': 12.955665024630541, 'jett': 12.495...   \n\n                                     win  \nmissing_ratio                        0.0  \nnum_values                             2  \nvalue_ratios   {False: 50.0, True: 50.0}  ",
      "text/html": "<div>\n<style scoped>\n    .dataframe tbody tr th:only-of-type {\n        vertical-align: middle;\n    }\n\n    .dataframe tbody tr th {\n        vertical-align: top;\n    }\n\n    .dataframe thead th {\n        text-align: right;\n    }\n</style>\n<table border=\"1\" class=\"dataframe\">\n  <thead>\n    <tr style=\"text-align: right;\">\n      <th></th>\n      <th>team</th>\n      <th>opponent</th>\n      <th>map</th>\n      <th>map_pick</th>\n      <th>player</th>\n      <th>agent</th>\n      <th>win</th>\n    </tr>\n  </thead>\n  <tbody>\n    <tr>\n      <th>missing_ratio</th>\n      <td>0.0</td>\n      <td>0.0</td>\n      <td>0.0</td>\n      <td>0.0</td>\n      <td>0.0</td>\n      <td>0.0</td>\n      <td>0.0</td>\n    </tr>\n    <tr>\n      <th>num_values</th>\n      <td>36</td>\n      <td>36</td>\n      <td>8</td>\n      <td>2</td>\n      <td>197</td>\n      <td>21</td>\n      <td>2</td>\n    </tr>\n    <tr>\n      <th>value_ratios</th>\n      <td>{'EG': 6.075533661740558, 'PRX': 5.00821018062...</td>\n      <td>{'EG': 6.075533661740558, 'PRX': 5.00821018062...</td>\n      <td>{'Ascent': 16.420361247947454, 'Lotus': 16.091...</td>\n      <td>{False: 57.88177339901478, True: 42.1182266009...</td>\n      <td>{'Ethan': 1.2151067323481117, 'Boostio': 1.215...</td>\n      <td>{'killjoy': 12.955665024630541, 'jett': 12.495...</td>\n      <td>{False: 50.0, True: 50.0}</td>\n    </tr>\n  </tbody>\n</table>\n</div>"
     },
     "execution_count": 710,
     "metadata": {},
     "output_type": "execute_result"
    }
   ],
   "source": [
    "non_numeric_columns = data.select_dtypes(include=['object', 'bool']).columns\n",
    "\n",
    "cat_col_info = {}\n",
    "for col in non_numeric_columns:\n",
    "    missing_ratio = data[col].isnull().mean() * 100\n",
    "\n",
    "    num_values = data[col].nunique()\n",
    "\n",
    "    value_counts = data[col].value_counts(normalize=True) * 100\n",
    "    value_ratios = value_counts.to_dict()\n",
    "\n",
    "    cat_col_info[col] = [missing_ratio, num_values, value_ratios]\n",
    "\n",
    "cat_col_info_df = pd.DataFrame(cat_col_info, index=[\"missing_ratio\", \"num_values\", \"value_ratios\"])\n",
    "\n",
    "cat_col_info_df.loc['missing_ratio'] = cat_col_info_df.loc['missing_ratio'].apply(lambda x: round(x, 1) if isinstance(x, float) else x)\n",
    "\n",
    "cat_col_info_df"
   ]
  },
  {
   "cell_type": "markdown",
   "metadata": {
    "collapsed": false
   },
   "source": [
    "Overall, there is no missing value. The data looks fine."
   ]
  },
  {
   "cell_type": "markdown",
   "metadata": {},
   "source": [
    "## Asking meaningful questions"
   ]
  },
  {
   "cell_type": "markdown",
   "source": [
    "### Question 1: How does the choice of agent affect a player's performance metrics across different maps?"
   ],
   "metadata": {
    "collapsed": false
   }
  },
  {
   "cell_type": "markdown",
   "source": [
    "#### What is the Question?\n",
    "We aim to understand if the choice of agent (character) in the game has a significant impact on various performance metrics (like 'rating', 'acs', 'kill', 'death', etc.) of players, and how this impact varies across different maps.\n",
    "\n",
    "#### Benefits of Finding the Answer:\n",
    "Strategic Insights for Teams and Players: Understanding how specific agents perform on different maps can help teams and players in strategizing their game plan, including agent selection and map preferences.\n",
    "Game Balance Analysis: It provides insights into the game's balance, helping to identify if certain agents are overpowered or underperforming on specific maps, which is valuable information for game developers.\n",
    "Fan and Analyst Utility: Fans and analysts of the game can gain deeper insights into the dynamics of agent-map combinations, enriching their understanding and discussions about the game.\n",
    "\n",
    "Preprocessing Steps:\n",
    "Filtering Relevant Data: Focus on columns related to agents, performance metrics, and maps.\n",
    "Handling Missing Values: Ensure that the data used in the analysis is complete, dealing with any missing values in relevant columns.\n",
    "Aggregation: Aggregate data by agent and map to analyze performance metrics collectively rather than on an individual match basis.\n",
    "Analysis Steps:\n",
    "Statistical Analysis: Perform statistical tests (e.g., ANOVA) to determine if there are significant differences in performance metrics across agents on different maps.\n",
    "Data Visualization: Create visual representations (like heatmaps or bar charts) to illustrate the performance of each agent on each map.\n",
    "Interpretation: Analyze the results to draw conclusions about the effectiveness of different agents on different maps."
   ],
   "metadata": {
    "collapsed": false
   }
  },
  {
   "cell_type": "code",
   "execution_count": 711,
   "metadata": {
    "ExecuteTime": {
     "end_time": "2023-12-26T00:58:23.786244200Z",
     "start_time": "2023-12-26T00:58:23.631761500Z"
    }
   },
   "outputs": [
    {
     "data": {
      "text/plain": "     agent     map  rating    acs  kd_ratio\n0     sova  Ascent    1.19  239.0  1.363636\n1  killjoy  Ascent    0.84  234.0  1.071428\n2     jett  Ascent    0.68  173.0  0.666667\n3     kayo  Ascent    0.63  142.0  0.533333\n4     omen  Ascent    0.57  114.0  0.437500",
      "text/html": "<div>\n<style scoped>\n    .dataframe tbody tr th:only-of-type {\n        vertical-align: middle;\n    }\n\n    .dataframe tbody tr th {\n        vertical-align: top;\n    }\n\n    .dataframe thead th {\n        text-align: right;\n    }\n</style>\n<table border=\"1\" class=\"dataframe\">\n  <thead>\n    <tr style=\"text-align: right;\">\n      <th></th>\n      <th>agent</th>\n      <th>map</th>\n      <th>rating</th>\n      <th>acs</th>\n      <th>kd_ratio</th>\n    </tr>\n  </thead>\n  <tbody>\n    <tr>\n      <th>0</th>\n      <td>sova</td>\n      <td>Ascent</td>\n      <td>1.19</td>\n      <td>239.0</td>\n      <td>1.363636</td>\n    </tr>\n    <tr>\n      <th>1</th>\n      <td>killjoy</td>\n      <td>Ascent</td>\n      <td>0.84</td>\n      <td>234.0</td>\n      <td>1.071428</td>\n    </tr>\n    <tr>\n      <th>2</th>\n      <td>jett</td>\n      <td>Ascent</td>\n      <td>0.68</td>\n      <td>173.0</td>\n      <td>0.666667</td>\n    </tr>\n    <tr>\n      <th>3</th>\n      <td>kayo</td>\n      <td>Ascent</td>\n      <td>0.63</td>\n      <td>142.0</td>\n      <td>0.533333</td>\n    </tr>\n    <tr>\n      <th>4</th>\n      <td>omen</td>\n      <td>Ascent</td>\n      <td>0.57</td>\n      <td>114.0</td>\n      <td>0.437500</td>\n    </tr>\n  </tbody>\n</table>\n</div>"
     },
     "execution_count": 711,
     "metadata": {},
     "output_type": "execute_result"
    }
   ],
   "source": [
    "epsilon = 1e-6  # to avoid division by zero\n",
    "data['kd_ratio'] = data['kill'] / (data['death'] + epsilon)\n",
    "\n",
    "# Filter relevant columns\n",
    "data_filtered = data[['agent', 'map', 'rating', 'acs', 'kd_ratio']]\n",
    "data_filtered.head()"
   ]
  },
  {
   "cell_type": "code",
   "execution_count": 712,
   "metadata": {
    "ExecuteTime": {
     "end_time": "2023-12-26T00:58:23.818137700Z",
     "start_time": "2023-12-26T00:58:23.647708200Z"
    }
   },
   "outputs": [],
   "source": [
    "# Group by 'agent' and 'map', and calculate mean and standard deviation for performance metrics\n",
    "grouped_data = data_filtered.groupby(['agent', 'map']).agg({\n",
    "    'rating': ['mean', 'std'],\n",
    "    'acs': ['mean', 'std'],\n",
    "    'kd_ratio': ['mean', 'std']\n",
    "}).reset_index()\n"
   ]
  },
  {
   "cell_type": "code",
   "execution_count": 713,
   "outputs": [
    {
     "name": "stdout",
     "output_type": "stream",
     "text": [
      "ANOVA table for rating across agents:\n",
      "               sum_sq      df         F        PR(>F)\n",
      "C(agent)    5.665786    20.0  3.419387  3.700654e-07\n",
      "Residual  502.804313  6069.0       NaN           NaN\n",
      "\n",
      "ANOVA table for ACS across agents:\n",
      "                 sum_sq      df          F         PR(>F)\n",
      "C(agent)  2.057648e+06    20.0  35.922478  3.748654e-131\n",
      "Residual  1.738168e+07  6069.0        NaN            NaN\n",
      "\n",
      "ANOVA table for K/D Ratio across agents:\n",
      "                sum_sq      df         F        PR(>F)\n",
      "C(agent)    33.966631    20.0  6.492393  6.925376e-18\n",
      "Residual  1587.577004  6069.0       NaN           NaN\n"
     ]
    }
   ],
   "source": [
    "# Prepare the data for ANOVA\n",
    "data_anova = data[['agent', 'map', 'rating', 'acs', 'kd_ratio']]\n",
    "\n",
    "# ANOVA for 'rating' across different agents\n",
    "model_rating = ols('rating ~ C(agent)', data=data_anova).fit()\n",
    "anova_table_rating = sm.stats.anova_lm(model_rating, typ=2)\n",
    "print('ANOVA table for rating across agents:\\n', anova_table_rating)\n",
    "\n",
    "# ANOVA for 'acs' across different agents\n",
    "model_acs = ols('acs ~ C(agent)', data=data_anova).fit()\n",
    "anova_table_acs = sm.stats.anova_lm(model_acs, typ=2)\n",
    "print('\\nANOVA table for ACS across agents:\\n', anova_table_acs)\n",
    "\n",
    "# ANOVA for 'kd_ratio' across different agents\n",
    "model_kd_ratio = ols('kd_ratio ~ C(agent)', data=data_anova).fit()\n",
    "anova_table_kd_ratio = sm.stats.anova_lm(model_kd_ratio, typ=2)\n",
    "print('\\nANOVA table for K/D Ratio across agents:\\n', anova_table_kd_ratio)"
   ],
   "metadata": {
    "collapsed": false,
    "ExecuteTime": {
     "end_time": "2023-12-26T00:58:23.875945600Z",
     "start_time": "2023-12-26T00:58:23.662657800Z"
    }
   }
  },
  {
   "cell_type": "code",
   "execution_count": 714,
   "outputs": [
    {
     "name": "stderr",
     "output_type": "stream",
     "text": [
      "C:\\Users\\Hanaki\\Documents\\Hanaki\\DataScience\\venv\\lib\\site-packages\\seaborn\\matrix.py:260: FutureWarning: Format strings passed to MaskedConstant are ignored, but in future may error or produce different behavior\n",
      "  annotation = (\"{:\" + self.fmt + \"}\").format(val)\n"
     ]
    },
    {
     "data": {
      "text/plain": "<Figure size 640x480 with 2 Axes>",
      "image/png": "[encoded data removed]"
     },
     "metadata": {},
     "output_type": "display_data"
    }
   ],
   "source": [
    "# Visualization of Rating by Agent for each Map using a heatmap\n",
    "pivot_data = data_filtered.pivot_table(index='agent', columns='map', values='rating', aggfunc='mean')\n",
    "sns.heatmap(pivot_data, annot=True, cmap='viridis')\n",
    "plt.title('Average Rating of Agents on Different Maps')\n",
    "plt.ylabel('Agent')\n",
    "plt.xlabel('Map')\n",
    "plt.show()"
   ],
   "metadata": {
    "collapsed": false,
    "ExecuteTime": {
     "end_time": "2023-12-26T00:58:24.100193900Z",
     "start_time": "2023-12-26T00:58:23.741395200Z"
    }
   }
  },
  {
   "cell_type": "code",
   "execution_count": 714,
   "outputs": [],
   "source": [],
   "metadata": {
    "collapsed": false,
    "ExecuteTime": {
     "end_time": "2023-12-26T00:58:24.100193900Z",
     "start_time": "2023-12-26T00:58:23.992554800Z"
    }
   }
  },
  {
   "cell_type": "code",
   "execution_count": 714,
   "outputs": [],
   "source": [],
   "metadata": {
    "collapsed": false,
    "ExecuteTime": {
     "end_time": "2023-12-26T00:58:24.101191500Z",
     "start_time": "2023-12-26T00:58:24.006511100Z"
    }
   }
  }
 ],
 "metadata": {
  "kernelspec": {
   "display_name": "Python 3 (ipykernel)",
   "language": "python",
   "name": "python3"
  },
  "language_info": {
   "codemirror_mode": {
    "name": "ipython",
    "version": 3
   },
   "file_extension": ".py",
   "mimetype": "text/x-python",
   "name": "python",
   "nbconvert_exporter": "python",
   "pygments_lexer": "ipython3",
   "version": "3.11.6"
  }
 },
 "nbformat": 4,
 "nbformat_minor": 4
}
